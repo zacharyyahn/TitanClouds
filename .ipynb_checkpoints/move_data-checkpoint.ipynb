{
 "cells": [
  {
   "cell_type": "code",
   "execution_count": 10,
   "id": "aa00b37d-2e94-4e71-92bd-460d0a71d145",
   "metadata": {},
   "outputs": [],
   "source": [
    "import os\n",
    "all_files = os.listdir(\"image\")\n",
    "pngs = [file[:-4] for file in all_files if file[-4:] == \".png\"]\n",
    "for png in pngs:\n",
    "    if png + \".json\" in all_files:\n",
    "        os.replace(\"image/\"+png+\".png\", \"labeled_images/\"+png+\".png\")\n",
    "        os.replace(\"image/\"+png+\".json\", \"labels/\"+png+\".json\")"
   ]
  },
  {
   "cell_type": "code",
   "execution_count": null,
   "id": "da853b1c-8d10-4ccd-a535-29ca62e5aeb5",
   "metadata": {},
   "outputs": [],
   "source": []
  }
 ],
 "metadata": {
  "kernelspec": {
   "display_name": "Python 3 (ipykernel)",
   "language": "python",
   "name": "python3"
  },
  "language_info": {
   "codemirror_mode": {
    "name": "ipython",
    "version": 3
   },
   "file_extension": ".py",
   "mimetype": "text/x-python",
   "name": "python",
   "nbconvert_exporter": "python",
   "pygments_lexer": "ipython3",
   "version": "3.11.5"
  }
 },
 "nbformat": 4,
 "nbformat_minor": 5
}
